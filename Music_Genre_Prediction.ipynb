{
  "nbformat": 4,
  "nbformat_minor": 0,
  "metadata": {
    "colab": {
      "name": "Music Genre Prediction.ipynb",
      "provenance": [],
      "authorship_tag": "ABX9TyPLumZP+NjZQ7bfXF59wp93",
      "include_colab_link": true
    },
    "kernelspec": {
      "name": "python3",
      "display_name": "Python 3"
    },
    "language_info": {
      "name": "python"
    }
  },
  "cells": [
    {
      "cell_type": "markdown",
      "metadata": {
        "id": "view-in-github",
        "colab_type": "text"
      },
      "source": [
        "<a href=\"https://colab.research.google.com/github/aruna09/Predict-Music-Genre/blob/main/Music_Genre_Prediction.ipynb\" target=\"_parent\"><img src=\"https://colab.research.google.com/assets/colab-badge.svg\" alt=\"Open In Colab\"/></a>"
      ]
    },
    {
      "cell_type": "markdown",
      "source": [
        "## Loading the dataset from Google Drive:☜(ﾟヮﾟ☜)"
      ],
      "metadata": {
        "id": "uvwVlxnPxKnv"
      }
    },
    {
      "cell_type": "code",
      "execution_count": null,
      "metadata": {
        "colab": {
          "base_uri": "https://localhost:8080/"
        },
        "id": "3pfOKsBNq1ev",
        "outputId": "5fb7b397-407c-4ffc-db82-2dd2c842f1ca"
      },
      "outputs": [
        {
          "output_type": "stream",
          "name": "stdout",
          "text": [
            "Drive already mounted at /content/drive; to attempt to forcibly remount, call drive.mount(\"/content/drive\", force_remount=True).\n"
          ]
        }
      ],
      "source": [
        "from google.colab import drive\n",
        "drive.mount('/content/drive')"
      ]
    },
    {
      "cell_type": "markdown",
      "source": [
        "### Importing required libraries:👩‍🏫"
      ],
      "metadata": {
        "id": "_uRfIRVoxYP-"
      }
    },
    {
      "cell_type": "code",
      "source": [
        "import os\n",
        "import pandas as pd\n",
        "import matplotlib.pyplot as plt\n",
        "import seaborn as sns\n",
        "sns.set()\n",
        "%matplotlib inline\n",
        "from sklearn import preprocessing\n",
        "le = preprocessing.LabelEncoder()"
      ],
      "metadata": {
        "id": "OJKBKEaKrXok"
      },
      "execution_count": null,
      "outputs": []
    },
    {
      "cell_type": "markdown",
      "source": [
        "### Reading Training and Testing Data👩‍💻"
      ],
      "metadata": {
        "id": "Nory1TNDxl8O"
      }
    },
    {
      "cell_type": "code",
      "source": [
        "path = \"/content/drive/My Drive/EilyLilly-Data-Scientist/dataset\"\n",
        "os.chdir(path)"
      ],
      "metadata": {
        "id": "hUHxx8ayrcQg"
      },
      "execution_count": null,
      "outputs": []
    },
    {
      "cell_type": "code",
      "source": [
        "train = pd.read_csv('train.csv',error_bad_lines=False)\n",
        "test = pd.read_csv('test.csv',error_bad_lines=False)\n",
        "submission = pd.read_csv('sample_submission.csv',error_bad_lines=False)\n",
        "\n",
        "data = train"
      ],
      "metadata": {
        "id": "8TKNF0D9rlH9"
      },
      "execution_count": null,
      "outputs": []
    },
    {
      "cell_type": "code",
      "source": [
        "data.head()"
      ],
      "metadata": {
        "colab": {
          "base_uri": "https://localhost:8080/",
          "height": 365
        },
        "id": "LE7nYjtOxzwv",
        "outputId": "a0afbcbb-22c7-48bb-cd4e-ff989dc0850c"
      },
      "execution_count": null,
      "outputs": [
        {
          "output_type": "execute_result",
          "data": {
            "text/html": [
              "<div>\n",
              "<style scoped>\n",
              "    .dataframe tbody tr th:only-of-type {\n",
              "        vertical-align: middle;\n",
              "    }\n",
              "\n",
              "    .dataframe tbody tr th {\n",
              "        vertical-align: top;\n",
              "    }\n",
              "\n",
              "    .dataframe thead th {\n",
              "        text-align: right;\n",
              "    }\n",
              "</style>\n",
              "<table border=\"1\" class=\"dataframe\">\n",
              "  <thead>\n",
              "    <tr style=\"text-align: right;\">\n",
              "      <th></th>\n",
              "      <th>instance_id</th>\n",
              "      <th>track_name</th>\n",
              "      <th>popularity</th>\n",
              "      <th>acousticness</th>\n",
              "      <th>danceability</th>\n",
              "      <th>duration_ms</th>\n",
              "      <th>energy</th>\n",
              "      <th>instrumentalness</th>\n",
              "      <th>key</th>\n",
              "      <th>liveness</th>\n",
              "      <th>loudness</th>\n",
              "      <th>voice_gender</th>\n",
              "      <th>mode</th>\n",
              "      <th>speechiness</th>\n",
              "      <th>tempo</th>\n",
              "      <th>musician_category</th>\n",
              "      <th>valence</th>\n",
              "      <th>music_genre</th>\n",
              "    </tr>\n",
              "  </thead>\n",
              "  <tbody>\n",
              "    <tr>\n",
              "      <th>0</th>\n",
              "      <td>MSC_83537.0</td>\n",
              "      <td>Estrellitas y Duendes</td>\n",
              "      <td>49.178</td>\n",
              "      <td>0.970522</td>\n",
              "      <td>0.580508</td>\n",
              "      <td>214625.776</td>\n",
              "      <td>0.192107</td>\n",
              "      <td>0.000000</td>\n",
              "      <td>Scale E</td>\n",
              "      <td>0.147134</td>\n",
              "      <td>-14.140</td>\n",
              "      <td>NaN</td>\n",
              "      <td>Major</td>\n",
              "      <td>0.046404</td>\n",
              "      <td>143.78799999999998</td>\n",
              "      <td>Band</td>\n",
              "      <td>0.598965</td>\n",
              "      <td>Jazz</td>\n",
              "    </tr>\n",
              "    <tr>\n",
              "      <th>1</th>\n",
              "      <td>MSC_22044.0</td>\n",
              "      <td>Al Norte</td>\n",
              "      <td>59.827</td>\n",
              "      <td>1.009380</td>\n",
              "      <td>0.687542</td>\n",
              "      <td>216232.195</td>\n",
              "      <td>0.265942</td>\n",
              "      <td>0.000031</td>\n",
              "      <td>Scale A</td>\n",
              "      <td>0.174655</td>\n",
              "      <td>-13.716</td>\n",
              "      <td>Male</td>\n",
              "      <td>?</td>\n",
              "      <td>0.039949</td>\n",
              "      <td>?</td>\n",
              "      <td>Band</td>\n",
              "      <td>0.357194</td>\n",
              "      <td>Jazz</td>\n",
              "    </tr>\n",
              "    <tr>\n",
              "      <th>2</th>\n",
              "      <td>MSC_62017.0</td>\n",
              "      <td>Yeah! (feat. Lil Jon &amp; Ludacris)</td>\n",
              "      <td>89.023</td>\n",
              "      <td>0.020041</td>\n",
              "      <td>0.967948</td>\n",
              "      <td>273314.723</td>\n",
              "      <td>0.857411</td>\n",
              "      <td>0.000000</td>\n",
              "      <td>Scale D</td>\n",
              "      <td>0.042030</td>\n",
              "      <td>-4.995</td>\n",
              "      <td>Female</td>\n",
              "      <td>Major</td>\n",
              "      <td>0.119917</td>\n",
              "      <td>105.01799999999999</td>\n",
              "      <td>Band</td>\n",
              "      <td>0.635525</td>\n",
              "      <td>Rap</td>\n",
              "    </tr>\n",
              "    <tr>\n",
              "      <th>3</th>\n",
              "      <td>MSC_76365.0</td>\n",
              "      <td>Can’t You See</td>\n",
              "      <td>55.762</td>\n",
              "      <td>0.010284</td>\n",
              "      <td>0.616287</td>\n",
              "      <td>189189.605</td>\n",
              "      <td>0.970513</td>\n",
              "      <td>0.000220</td>\n",
              "      <td>Scale D</td>\n",
              "      <td>0.124637</td>\n",
              "      <td>-4.262</td>\n",
              "      <td>Both</td>\n",
              "      <td>Major</td>\n",
              "      <td>0.167493</td>\n",
              "      <td>?</td>\n",
              "      <td>Duet</td>\n",
              "      <td>0.983750</td>\n",
              "      <td>Rock</td>\n",
              "    </tr>\n",
              "    <tr>\n",
              "      <th>4</th>\n",
              "      <td>MSC_71493.0</td>\n",
              "      <td>Sonata III (G Moll), BWV 1029: Adagio</td>\n",
              "      <td>45.095</td>\n",
              "      <td>0.858769</td>\n",
              "      <td>0.280645</td>\n",
              "      <td>410136.987</td>\n",
              "      <td>0.114732</td>\n",
              "      <td>0.002753</td>\n",
              "      <td>Scale F Sharp</td>\n",
              "      <td>0.134782</td>\n",
              "      <td>-26.922</td>\n",
              "      <td>Female</td>\n",
              "      <td>Minor</td>\n",
              "      <td>0.039139</td>\n",
              "      <td>112.18299999999999</td>\n",
              "      <td>Band</td>\n",
              "      <td>0.074412</td>\n",
              "      <td>Classical</td>\n",
              "    </tr>\n",
              "  </tbody>\n",
              "</table>\n",
              "</div>"
            ],
            "text/plain": [
              "   instance_id                             track_name  ...   valence  music_genre\n",
              "0  MSC_83537.0                  Estrellitas y Duendes  ...  0.598965         Jazz\n",
              "1  MSC_22044.0                               Al Norte  ...  0.357194         Jazz\n",
              "2  MSC_62017.0       Yeah! (feat. Lil Jon & Ludacris)  ...  0.635525          Rap\n",
              "3  MSC_76365.0                          Can’t You See  ...  0.983750         Rock\n",
              "4  MSC_71493.0  Sonata III (G Moll), BWV 1029: Adagio  ...  0.074412    Classical\n",
              "\n",
              "[5 rows x 18 columns]"
            ]
          },
          "metadata": {},
          "execution_count": 5
        }
      ]
    },
    {
      "cell_type": "code",
      "source": [
        "data.isna().sum()"
      ],
      "metadata": {
        "colab": {
          "base_uri": "https://localhost:8080/"
        },
        "id": "_aLruKx6sw-h",
        "outputId": "7a6d7dda-7e69-417b-9825-ab6e9d300ed9"
      },
      "execution_count": null,
      "outputs": [
        {
          "output_type": "execute_result",
          "data": {
            "text/plain": [
              "instance_id             0\n",
              "track_name              0\n",
              "popularity            642\n",
              "acousticness            0\n",
              "danceability          556\n",
              "duration_ms            94\n",
              "energy                 94\n",
              "instrumentalness       95\n",
              "key                     0\n",
              "liveness                0\n",
              "loudness               36\n",
              "voice_gender          765\n",
              "mode                   35\n",
              "speechiness            26\n",
              "tempo                   0\n",
              "musician_category    1360\n",
              "valence               677\n",
              "music_genre             0\n",
              "dtype: int64"
            ]
          },
          "metadata": {},
          "execution_count": 6
        }
      ]
    },
    {
      "cell_type": "markdown",
      "source": [
        "###Visualization"
      ],
      "metadata": {
        "id": "1rS15p--1vM_"
      }
    },
    {
      "cell_type": "code",
      "source": [
        "plot = sns.histplot(data=data, x='musician_category', hue='voice_gender', multiple='stack')\n",
        "sns.set(rc = {'figure.figsize':(8,8)})"
      ],
      "metadata": {
        "colab": {
          "base_uri": "https://localhost:8080/",
          "height": 285
        },
        "id": "C5yYvu-p1cs3",
        "outputId": "6d8b25c7-27a4-4ac4-cdd0-a5165206938c"
      },
      "execution_count": null,
      "outputs": [
        {
          "output_type": "display_data",
          "data": {
            "image/png": "[encoded data removed]",
            "text/plain": [
              "<Figure size 432x288 with 1 Axes>"
            ]
          },
          "metadata": {
            "needs_background": "light"
          }
        }
      ]
    },
    {
      "cell_type": "code",
      "source": [
        "plot = sns.histplot(data=data, x='music_genre', hue='voice_gender', multiple='stack')\n",
        "sns.set(rc = {'figure.figsize':(8,8)})"
      ],
      "metadata": {
        "colab": {
          "base_uri": "https://localhost:8080/",
          "height": 502
        },
        "id": "BD6v-YLcvwMS",
        "outputId": "87f07b94-6f9f-4a69-ef5c-c42beada7eda"
      },
      "execution_count": null,
      "outputs": [
        {
          "output_type": "display_data",
          "data": {
            "image/png": "[encoded data removed]",
            "text/plain": [
              "<Figure size 576x576 with 1 Axes>"
            ]
          },
          "metadata": {}
        }
      ]
    },
    {
      "cell_type": "markdown",
      "source": [
        "### Imputing missing values and Feature Encoding👩‍💻"
      ],
      "metadata": {
        "id": "JjnINR9Btx2g"
      }
    },
    {
      "cell_type": "markdown",
      "source": [
        "These methods can be used for both the Train and Test Set.\n",
        "\n",
        "1. Substitute Question Marks:\n",
        "\n",
        "    During Preliminary analysis it was observed that few feature columns have \"?\" instead of their actual values. Replacing these will be a good first step."
      ],
      "metadata": {
        "id": "Cj6udSGX3IPu"
      }
    },
    {
      "cell_type": "code",
      "source": [
        "def substitute_question_marks_NA(data):\n",
        "  data = data.replace(\"?\", 0)\n",
        "  return data"
      ],
      "metadata": {
        "id": "KqRrumIfB5z_"
      },
      "execution_count": null,
      "outputs": []
    },
    {
      "cell_type": "markdown",
      "source": [
        "### These preprocessing steps are exclusively used for the Training Set\n",
        "\n",
        "1. Drop Null Rows: Dropping null rows, for the categorical columns- musician_category and mode.\n",
        "\n",
        "2. Drop insignificant columns: Dropping insignificant columns- instance_id and track_name\n",
        "\n",
        "3. Impute NA values in Train Set: Handling/Imputing other null values in all the features. This includes all numeric values, which are first grouped on the basis of musician_category and music_genre, post which the mean value of the formed group is replaced. This type of encoding where the target variable is involved helps transfer important features to the encoded variable. "
      ],
      "metadata": {
        "id": "jWpTMavDt7N5"
      }
    },
    {
      "cell_type": "code",
      "source": [
        "def drop_null_rows(data):\n",
        "  data.dropna(subset=['musician_category', 'mode'])\n",
        "  return data"
      ],
      "metadata": {
        "id": "8RD9xtxn2F7e"
      },
      "execution_count": null,
      "outputs": []
    },
    {
      "cell_type": "code",
      "source": [
        "def drop_insignificant_columns(data):\n",
        "  data = data.drop(['instance_id', 'track_name'], axis=1)\n",
        "  return data"
      ],
      "metadata": {
        "id": "if-sscTDsB3W"
      },
      "execution_count": null,
      "outputs": []
    },
    {
      "cell_type": "code",
      "source": [
        "def impute_na_values_train_set(data):\n",
        "  data['popularity'] = data['popularity'].fillna(data.groupby(['music_genre', 'musician_category'])['popularity'].transform('mean'))\n",
        "  data['danceability'] = data['danceability'].fillna(data.groupby(['music_genre', 'musician_category'])['danceability'].transform('mean'))\n",
        "  data['duration_ms'] = data['duration_ms'].fillna(data.groupby(['music_genre', 'musician_category'])['duration_ms'].transform('mean'))\n",
        "  data['energy'] = data['energy'].fillna(data.groupby(['music_genre', 'musician_category'])['energy'].transform('mean'))\n",
        "  data['instrumentalness'] = data['instrumentalness'].fillna(data.groupby(['music_genre', 'musician_category'])['instrumentalness'].transform('mean'))\n",
        "  data['loudness'] = data['loudness'].fillna(data.groupby(['music_genre', 'musician_category'])['loudness'].transform('mean'))\n",
        "  data['speechiness'] = data['speechiness'].fillna(data.groupby(['music_genre', 'musician_category'])['speechiness'].transform('mean'))\n",
        "  data['valence'] = data['valence'].fillna(data.groupby(['music_genre', 'musician_category'])['valence'].transform('mean'))\n",
        "\n",
        "  return data"
      ],
      "metadata": {
        "id": "XtqaGcnasEhf"
      },
      "execution_count": null,
      "outputs": []
    },
    {
      "cell_type": "markdown",
      "source": [
        "### These preprocessing steps are exclusively used for the Test Set.\n",
        "\n",
        "1. Impute NA values in Test Set: Handling/Imputing other null values in all the features. \n",
        "\n",
        "  This includes all numeric values, which are first grouped on the basis of musician_category, post which the mean value of the formed group is replaced."
      ],
      "metadata": {
        "id": "gp4XuksAt50Q"
      }
    },
    {
      "cell_type": "code",
      "source": [
        "def impute_na_test_set(data):\n",
        "  data['popularity'] = data['popularity'].fillna(data.groupby(['musician_category'])['popularity'].transform('mean'))\n",
        "  data['danceability'] = data['danceability'].fillna(data.groupby(['musician_category'])['danceability'].transform('mean'))\n",
        "  data['duration_ms'] = data['duration_ms'].fillna(data.groupby(['musician_category'])['duration_ms'].transform('mean'))\n",
        "  data['energy'] = data['energy'].fillna(data.groupby(['musician_category'])['energy'].transform('mean'))\n",
        "  data['instrumentalness'] = data['instrumentalness'].fillna(data.groupby(['musician_category'])['instrumentalness'].transform('mean'))\n",
        "  data['loudness'] = data['loudness'].fillna(data.groupby(['musician_category'])['loudness'].transform('mean'))\n",
        "  data['speechiness'] = data['speechiness'].fillna(data.groupby(['musician_category'])['speechiness'].transform('mean'))\n",
        "  data['valence'] = data['valence'].fillna(data.groupby(['musician_category'])['valence'].transform('mean'))\n",
        "\n",
        "  data = data.replace(np.nan, 0)\n",
        "  return data"
      ],
      "metadata": {
        "id": "24wZFMPxt07R"
      },
      "execution_count": null,
      "outputs": []
    },
    {
      "cell_type": "markdown",
      "source": [
        "### Imputing Categorical Variables\n",
        "\n",
        "  1. Imputing Voice_gender: As clear in the visualizations, the spread of all categories is pretty uniform and hence, we use python's random function to impute these missing values.\n",
        "\n",
        "  2. Impute Categorical Values: Using Label Encoder to encode all categorical values"
      ],
      "metadata": {
        "id": "XsaTAcjjsKGm"
      }
    },
    {
      "cell_type": "code",
      "source": [
        "import random\n",
        "\n",
        "def impute_voice_gender(data):\n",
        "  data.loc[data['musician_category'] == \"Duet\", 'voice_gender'] = data.loc[data['musician_category'] == \"Duet\", 'voice_gender'].fillna(\"Both\")\n",
        "  data.loc[data['musician_category'] == \"Band\", 'voice_gender'] = data.loc[data['musician_category'] == \"Band\", 'voice_gender'].fillna(random.choice(['Male', 'Female']))\n",
        "  data.loc[data['musician_category'] == \"Solo\", 'voice_gender'] = data.loc[data['musician_category'] == \"Solo\", 'voice_gender'].fillna(random.choice(['Male', 'Female']))\n",
        "  return data"
      ],
      "metadata": {
        "id": "yMxbQtss4VM-"
      },
      "execution_count": null,
      "outputs": []
    },
    {
      "cell_type": "code",
      "source": [
        "def impute_categorical_variables(data):\n",
        "  data['key'] = data['key'].astype(str)\n",
        "  le.fit(data['key'])\n",
        "  data['key'] = le.transform(data['key'])\n",
        "\n",
        "  data['musician_category'] = data['musician_category'].astype(str)\n",
        "  le.fit(data['musician_category'])\n",
        "  data['musician_category'] = le.transform(data['musician_category'])\n",
        "\n",
        "  data['mode'] = data['mode'].astype(str)\n",
        "  le.fit(data['mode'])\n",
        "  data['mode'] = le.transform(data['mode'])\n",
        "\n",
        "  data['voice_gender'] = data['voice_gender'].astype(str)\n",
        "  le.fit(data['voice_gender'])\n",
        "  data['voice_gender'] = le.transform(data['voice_gender'])\n",
        "\n",
        "  return data"
      ],
      "metadata": {
        "id": "CCX5z8MasJYn"
      },
      "execution_count": null,
      "outputs": []
    },
    {
      "cell_type": "code",
      "source": [
        "def impute_categorical_variables_test(data):\n",
        "  data['key'] = data['key'].astype(str)\n",
        "  le.fit(data['key'])\n",
        "  data['key'] = le.transform(data['key'])\n",
        "\n",
        "  data['musician_category'] = data['musician_category'].astype(str)\n",
        "  le.fit(data['musician_category'])\n",
        "  data['musician_category'] = le.transform(data['musician_category'])\n",
        "\n",
        "  data['mode'] = data['mode'].astype(str)\n",
        "  le.fit(data['mode'])\n",
        "  data['mode'] = le.transform(data['mode'])\n",
        "\n",
        "  data['voice_gender'] = data['voice_gender'].astype(str)\n",
        "  le.fit(data['voice_gender'])\n",
        "  data['voice_gender'] = le.transform(data['voice_gender'])\n",
        "\n",
        "  return data"
      ],
      "metadata": {
        "id": "3s7XFKt3Q56D"
      },
      "execution_count": null,
      "outputs": []
    },
    {
      "cell_type": "code",
      "source": [
        "def target_variable_encoding(data):\n",
        "  data = data.replace(\"Jazz\", 0)\n",
        "  data = data.replace(\"Rap\", 1)\n",
        "  data = data.replace(\"Rock\", 2)\n",
        "  data = data.replace(\"Country\", 3)\n",
        "  data = data.replace(\"Hip-Hop\", 4)\n",
        "  data = data.replace(\"Electronic\", 5)\n",
        "  data = data.replace(\"Classical\", 6)\n",
        "  return data"
      ],
      "metadata": {
        "id": "IGIVLmrcLycF"
      },
      "execution_count": null,
      "outputs": []
    },
    {
      "cell_type": "markdown",
      "source": [
        "### Utility Code\n",
        "\n",
        "1. convert dtype to float: Converting Data to a uniform type\n",
        "\n",
        "2. Dropping all Null Rows"
      ],
      "metadata": {
        "id": "qWcVcGF02B-Y"
      }
    },
    {
      "cell_type": "code",
      "source": [
        "def convert_dtype_tofloat64(data):\n",
        "  for column in list(data):\n",
        "    data[column] = data[column].astype(float)\n",
        "  clean_dataset(data)\n",
        "  return data"
      ],
      "metadata": {
        "id": "rG1SFXtM_vsv"
      },
      "execution_count": null,
      "outputs": []
    },
    {
      "cell_type": "code",
      "source": [
        "def drop_all_na_rows(data):\n",
        "  data = data.dropna()\n",
        "  return data"
      ],
      "metadata": {
        "id": "gcHzDuObZ383"
      },
      "execution_count": null,
      "outputs": []
    },
    {
      "cell_type": "markdown",
      "source": [
        "### Standardizing Data"
      ],
      "metadata": {
        "id": "8oPYar52sQRW"
      }
    },
    {
      "cell_type": "code",
      "source": [
        "def standardize_data(data):\n",
        "  scaler = preprocessing.StandardScaler().fit(data)\n",
        "  #scaler = RobustScaler().fit(data)\n",
        "  X_scaled = scaler.transform(data)\n",
        "  return X_scaled"
      ],
      "metadata": {
        "id": "uOEK5fXGsTR2"
      },
      "execution_count": null,
      "outputs": []
    },
    {
      "cell_type": "markdown",
      "source": [
        "### Clean Dataset"
      ],
      "metadata": {
        "id": "kJIm8RwwT8Gp"
      }
    },
    {
      "cell_type": "code",
      "source": [
        "def clean_dataset(df):\n",
        "  df.dropna(inplace=True)\n",
        "  indices_to_keep = ~df.isin([np.nan, np.inf, -np.inf]).any(1)\n",
        "  return df[indices_to_keep].astype(np.float64)"
      ],
      "metadata": {
        "id": "Br0KKX-YT7xS"
      },
      "execution_count": null,
      "outputs": []
    },
    {
      "cell_type": "markdown",
      "source": [
        "### Normalizing Data"
      ],
      "metadata": {
        "id": "M9WF6zbIsVqv"
      }
    },
    {
      "cell_type": "code",
      "source": [
        "import numpy as np\n",
        "\n",
        "def normalize_data(data):\n",
        "  X_normalized = preprocessing.normalize(data, norm='l2')\n",
        "  return X_normalized"
      ],
      "metadata": {
        "id": "_oAFZ0_2sX9f"
      },
      "execution_count": null,
      "outputs": []
    },
    {
      "cell_type": "markdown",
      "source": [
        "### Preprocessing Train set"
      ],
      "metadata": {
        "id": "hNMbHXSosla_"
      }
    },
    {
      "cell_type": "code",
      "source": [
        "data = drop_insignificant_columns(data)\n",
        "\n",
        "data = drop_null_rows(data)\n",
        "data = substitute_question_marks_NA(data)\n",
        "data = impute_na_values_train_set(data)\n",
        "data = impute_voice_gender(data)\n",
        "data = impute_categorical_variables(data)\n",
        "data = target_variable_encoding(data)\n",
        "data = drop_all_na_rows(data)\n",
        "\n",
        "data = convert_dtype_tofloat64(data)\n",
        "data = clean_dataset(data)\n",
        "# data.iloc[:, 0:15] = standardize_data(data.iloc[:, 0:15])\n",
        "# data.iloc[:, 0:15] = normalize_data(data.iloc[:, 0:15])"
      ],
      "metadata": {
        "id": "7JdNAhGHsoJv"
      },
      "execution_count": null,
      "outputs": []
    },
    {
      "cell_type": "markdown",
      "source": [
        "### Preprocessing Test Set"
      ],
      "metadata": {
        "id": "U_3_PTKsso2B"
      }
    },
    {
      "cell_type": "code",
      "source": [
        "test = substitute_question_marks_NA(test)\n",
        "test = impute_na_test_set(test)\n",
        "test = impute_voice_gender(test)\n",
        "test = impute_categorical_variables(test)\n",
        "test = target_variable_encoding(test)\n",
        "test = test.reset_index()\n",
        "test.iloc[:, 3:18] = convert_dtype_tofloat64(test.iloc[:, 3:18])\n",
        "# test.iloc[:, 3:18] = standardize_data(test.iloc[:, 3:18])\n",
        "# test.iloc[:, 3:18] = normalize_data(test.iloc[:, 3:18])"
      ],
      "metadata": {
        "id": "vG34vPPIssnW"
      },
      "execution_count": null,
      "outputs": []
    },
    {
      "cell_type": "markdown",
      "source": [
        "### Model Building"
      ],
      "metadata": {
        "id": "HBGxRTT2UaOS"
      }
    },
    {
      "cell_type": "markdown",
      "source": [
        "#### Partitioning data into train and test set"
      ],
      "metadata": {
        "id": "0TE52Fvg2Yap"
      }
    },
    {
      "cell_type": "code",
      "source": [
        "X_train = data.iloc[:, 0: 15]\n",
        "y_train = data.iloc[:, -1]\n",
        "\n",
        "X_test = test.iloc[:, 3:]"
      ],
      "metadata": {
        "id": "oKT3fscpUZ9a"
      },
      "execution_count": null,
      "outputs": []
    },
    {
      "cell_type": "markdown",
      "source": [
        "#### Importing necessary libraries"
      ],
      "metadata": {
        "id": "fBWjxtCl2dMo"
      }
    },
    {
      "cell_type": "code",
      "source": [
        "import numpy as np\n",
        "import xgboost as xgb\n",
        "from sklearn import svm\n",
        "from sklearn import tree\n",
        "from sklearn.svm import SVC\n",
        "from sklearn.naive_bayes import GaussianNB\n",
        "from sklearn.feature_selection import RFE\n",
        "from sklearn.linear_model import LogisticRegression\n",
        "from sklearn.model_selection import RepeatedStratifiedKFold\n",
        "from sklearn.neighbors import KNeighborsClassifier\n",
        "from sklearn.ensemble import RandomForestClassifier\n",
        "from sklearn.model_selection import cross_val_score\n",
        "from sklearn.ensemble import StackingClassifier"
      ],
      "metadata": {
        "id": "Jwg_S8-2rurC"
      },
      "execution_count": null,
      "outputs": []
    },
    {
      "cell_type": "markdown",
      "source": [
        "## Logistic Regression"
      ],
      "metadata": {
        "id": "hcuuemnxbda2"
      }
    },
    {
      "cell_type": "code",
      "source": [
        "clf = LogisticRegression(random_state=0).fit(X_train, y_train)\n",
        "clf.score(X_train, y_train)"
      ],
      "metadata": {
        "id": "8fneVEh_bfsu"
      },
      "execution_count": null,
      "outputs": []
    },
    {
      "cell_type": "markdown",
      "source": [
        "Regressive Feature Elimination"
      ],
      "metadata": {
        "id": "C_7z6CsJpE1a"
      }
    },
    {
      "cell_type": "code",
      "source": [
        "#Selecting the Best important features according to Logistic Regression\n",
        "rfe_selector = RFE(estimator=LogisticRegression(),n_features_to_select = 6, step = 1)\n",
        "clf = rfe_selector.fit(X_train, y_train)\n",
        "clf.score(X_train, y_train)"
      ],
      "metadata": {
        "id": "eNFkM5CQpERS"
      },
      "execution_count": null,
      "outputs": []
    },
    {
      "cell_type": "code",
      "source": [
        "y_test = clf.predict(X_test)"
      ],
      "metadata": {
        "id": "6CbcmaYtpSuS"
      },
      "execution_count": null,
      "outputs": []
    },
    {
      "cell_type": "markdown",
      "source": [
        "Gaussian Naive Bayes = 50.41"
      ],
      "metadata": {
        "id": "CZczRgmwpOKy"
      }
    },
    {
      "cell_type": "code",
      "source": [
        "gnb = GaussianNB()\n",
        "y_test = gnb.fit(X_train, y_train).predict(X_test)"
      ],
      "metadata": {
        "id": "kW75DNKQpOXC"
      },
      "execution_count": null,
      "outputs": []
    },
    {
      "cell_type": "markdown",
      "source": [
        "KNN = 47.07"
      ],
      "metadata": {
        "id": "Aank0wqXpgBy"
      }
    },
    {
      "cell_type": "code",
      "source": [
        "neigh = KNeighborsClassifier(n_neighbors=7)\n",
        "neigh.fit(X_train, y_train)\n",
        "y_test = neigh.predict(X_test)"
      ],
      "metadata": {
        "id": "ly9zXY-mphd6"
      },
      "execution_count": null,
      "outputs": []
    },
    {
      "cell_type": "markdown",
      "source": [
        "Decision Trees = 48.2"
      ],
      "metadata": {
        "id": "B_N1yo4zpntB"
      }
    },
    {
      "cell_type": "code",
      "source": [
        "clf = tree.DecisionTreeClassifier()\n",
        "clf = clf.fit(X_train, y_train)\n",
        "y_test = clf.predict(X_test)\n",
        "#tree.plot_tree(clf)"
      ],
      "metadata": {
        "id": "VESaMAfqppJS"
      },
      "execution_count": null,
      "outputs": []
    },
    {
      "cell_type": "markdown",
      "source": [
        "Random Forest = 40.99"
      ],
      "metadata": {
        "id": "saWNqvN8p5uS"
      }
    },
    {
      "cell_type": "code",
      "source": [
        "clf = RandomForestClassifier(max_depth=3, random_state=0)\n",
        "clf.fit(X_train, y_train)\n",
        "y_test = clf.predict(X_test)"
      ],
      "metadata": {
        "id": "ypxh8Pqpp7ri"
      },
      "execution_count": null,
      "outputs": []
    },
    {
      "cell_type": "markdown",
      "source": [
        "SVM = 56.92"
      ],
      "metadata": {
        "id": "JPLEw2MMqK_R"
      }
    },
    {
      "cell_type": "code",
      "source": [
        "clf = svm.SVC()\n",
        "clf.fit(X_train, y_train)\n",
        "y_test = clf.predict(X_test)"
      ],
      "metadata": {
        "id": "wENK4WkXqMBh"
      },
      "execution_count": null,
      "outputs": []
    },
    {
      "cell_type": "markdown",
      "source": [
        "XGBoost = 58.33"
      ],
      "metadata": {
        "id": "qjyROXHtrBuC"
      }
    },
    {
      "cell_type": "code",
      "source": [
        "pip install xgboost"
      ],
      "metadata": {
        "colab": {
          "base_uri": "https://localhost:8080/"
        },
        "id": "ao6Y16MSrLza",
        "outputId": "c0068376-0b7d-4a5c-e104-6360fdf52279"
      },
      "execution_count": null,
      "outputs": [
        {
          "output_type": "stream",
          "name": "stdout",
          "text": [
            "Requirement already satisfied: xgboost in /usr/local/lib/python3.7/dist-packages (0.90)\n",
            "Requirement already satisfied: numpy in /usr/local/lib/python3.7/dist-packages (from xgboost) (1.19.5)\n",
            "Requirement already satisfied: scipy in /usr/local/lib/python3.7/dist-packages (from xgboost) (1.4.1)\n"
          ]
        }
      ]
    },
    {
      "cell_type": "code",
      "source": [
        "xgb_cl = xgb.XGBClassifier()\n",
        "\n",
        "# Fit\n",
        "xgb_cl.fit(X_train, y_train)\n",
        "\n",
        "# Predict\n",
        "y_test = xgb_cl.predict(X_test)"
      ],
      "metadata": {
        "id": "YaN52ofcrC_p"
      },
      "execution_count": null,
      "outputs": []
    },
    {
      "cell_type": "markdown",
      "source": [
        "Model Stacking = 55.28"
      ],
      "metadata": {
        "id": "yReBR5fRrnNy"
      }
    },
    {
      "cell_type": "code",
      "source": [
        "base_models = list()\n",
        "base_models.append(('KNNC', KNeighborsClassifier(n_neighbors = len(np.unique(y_train)) , weights = 'distance')))\n",
        "base_models.append(('SVC', SVC(kernel = 'linear', class_weight = 'balanced', break_ties = True)))    \n",
        "base_models.append(('GNB', GaussianNB()))\n",
        "base_models.append(('RF', RandomForestClassifier(n_estimators= 200, oob_score = True, class_weight = \"balanced\", random_state = 20, ccp_alpha = 0.1)))\n",
        "\n",
        "##Base estimators which will be stacked together\n",
        "meta_model = LogisticRegression()\n",
        "final_model = StackingClassifier(estimators = base_models, final_estimator = meta_model, cv = 5)\n",
        "final_model.fit(X_train, y_train)\n",
        "y_test = final_model.predict(X_test)"
      ],
      "metadata": {
        "id": "kSEgoqqLrr8K"
      },
      "execution_count": null,
      "outputs": []
    },
    {
      "cell_type": "markdown",
      "source": [
        "### Submission"
      ],
      "metadata": {
        "id": "hCXgndH9bqJ9"
      }
    },
    {
      "cell_type": "markdown",
      "source": [
        "#### Mapping the target variable to genre categories"
      ],
      "metadata": {
        "id": "qstZcA6w22go"
      }
    },
    {
      "cell_type": "code",
      "source": [
        "y_test = pd.DataFrame(y_test)\n",
        "y_test =y_test.replace(0, \"Jazz\")\n",
        "y_test =y_test.replace(1, \"Rap\")\n",
        "y_test =y_test.replace(2, \"Rock\")\n",
        "y_test =y_test.replace(3, \"Country\")\n",
        "y_test =y_test.replace(4, \"Hip-Hop\")\n",
        "y_test =y_test.replace(5, \"Electronic\")\n",
        "y_test =y_test.replace(6, \"Classical\")\n",
        "\n",
        "df = pd.DataFrame()\n",
        "df['instance_id'] = test.instance_id\n",
        "df['music_genre'] = y_test"
      ],
      "metadata": {
        "id": "3krWNTEcgg_D"
      },
      "execution_count": null,
      "outputs": []
    },
    {
      "cell_type": "markdown",
      "source": [
        "#### Creating the submission CSV file"
      ],
      "metadata": {
        "id": "KX_yTgEi27Ag"
      }
    },
    {
      "cell_type": "code",
      "source": [
        "submission_csv = pd.DataFrame({'instance_id':df.instance_id, 'music_genre': df.music_genre})\n",
        "submission_csv.to_csv(path+'submission_file.csv', index=False)"
      ],
      "metadata": {
        "id": "3kBS-GdNboBe"
      },
      "execution_count": null,
      "outputs": []
    }
  ]
}